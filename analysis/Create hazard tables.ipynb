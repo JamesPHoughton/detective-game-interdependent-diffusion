{
 "cells": [
  {
   "cell_type": "markdown",
   "metadata": {},
   "source": [
    "# Create Hazard Tables\n",
    "This notebook creates hazard tables to use in cox regression. It creates one hazard table per block (so there is a matching data json file). "
   ]
  },
  {
   "cell_type": "code",
   "execution_count": 1,
   "metadata": {},
   "outputs": [
    {
     "name": "stdout",
     "output_type": "stream",
     "text": [
      "Populating the interactive namespace from numpy and matplotlib\n"
     ]
    }
   ],
   "source": [
    "%pylab inline\n",
    "from helpers import retrace\n",
    "import json\n",
    "import copy\n",
    "import pandas as pd\n",
    "from datetime import datetime"
   ]
  },
  {
   "cell_type": "code",
   "execution_count": 14,
   "metadata": {},
   "outputs": [],
   "source": [
    "block_file = '../results-anonymized/pilot/pilot_20200505-7_block_1.json'\n",
    "hazard_table_file = '../results-anonymized/pilot/pilot_20200505-7_block_1_hazard_table.csv'"
   ]
  },
  {
   "cell_type": "code",
   "execution_count": 15,
   "metadata": {},
   "outputs": [],
   "source": [
    "def fast_n_triangle_paths(M, edge):\n",
    "    \"\"\" Fast check for triangle closing rule\"\"\"\n",
    "    try:\n",
    "        from_neighbors = set(M[edge[0]])  # if concept 0 not in network, false\n",
    "        to_neighbors = set(M[edge[1]])  # if concept 1 not in network, false\n",
    "        return len(from_neighbors & to_neighbors)  # closes number of existing paths\n",
    "    except:\n",
    "        return 0\n",
    "\n",
    "\n",
    "def instantaneous_hazard_factors(\n",
    "    game, g, t,\n",
    "    startup_period=30,\n",
    "):\n",
    "    \"\"\"\n",
    "    Given the state of the game, what are the factors influencing the hazard of adopting all beliefs?\n",
    "\n",
    "    Returns a row for the hazard factors of all individuals for adopting all beliefs \n",
    "    given the current state of the game. Gets big fast.\n",
    "    \"\"\"\n",
    "    prompt_nodes = set(game['data.clues']['tclue_1_2']['nodes'])\n",
    "\n",
    "    rows = []\n",
    "    for player_id, player_data in game['players'].items():\n",
    "\n",
    "        pos = player_data['data.position']\n",
    "        M = g.nodes()[player_id]['M']  # promising leads (memory)\n",
    "        F = g.nodes()[player_id]['F']  # dead ends (forgetory)\n",
    "\n",
    "        for clue_id, clue_data in game['data.clues'].items():\n",
    "            if clue_id[0] == pos[0]: # only collect treatment clues for treatment players & vice versa\n",
    "                \n",
    "                nodes = set(clue_data['nodes'])\n",
    "                row = {\n",
    "                    'start': t,\n",
    "                    \n",
    "                    'exposure_id': '%s_%s'%(player_id, clue_id),  # to group all rows corresponding to same exposure \n",
    "                    'player_id': player_id,  # player random effect\n",
    "                    'game_id': game['_id'],  # game random effect\n",
    "                    'is_caveman_game': 'caveman' in game['data.gameSetupId'],\n",
    "    \n",
    "                    'is_treatment_condition': pos.startswith('t'),\n",
    "                    'is_spoke': len(nodes.intersection(prompt_nodes)) == 1,\n",
    "                    'is_link_or_spur': len(nodes.intersection(prompt_nodes)) == 0,\n",
    "                    'is_prompt': nodes == prompt_nodes,\n",
    "                    'is_in_leads': M.has_edge(*nodes),\n",
    "                    'is_in_deads': F.has_edge(*nodes),\n",
    "                    \n",
    "                    'n_exposures': sum([g.nodes()[nid]['M'].has_edge(*nodes) for nid in g.neighbors(player_id)]),  # number of neighbors exposing\n",
    "\n",
    "                    # number of beliefs already adopted\n",
    "                    'n_existing_leads': M.number_of_edges(),\n",
    "                    \n",
    "#                    'n_fresh_candidates': ... # expensive, and not very influential \n",
    "                    'in_startup_period': t<=startup_period,\n",
    "                    \n",
    "                    # number of connections by any clue to any of the rim nodes\n",
    "                    'n_rim_connections': sum([v for k,v in M.degree(nodes-prompt_nodes)]),  # includes the current clue, if it exists\n",
    "                    \n",
    "                    # number of triangle paths\n",
    "                    'n_triangle_paths': fast_n_triangle_paths(M, clue_data['nodes']),\n",
    "                    \n",
    "                    # number of beliefs that the player has that are also in the exposers' leads\n",
    "                    'n_edges_shared_with_exposers': len({\n",
    "                        edge for nid in g.neighbors(player_id) \n",
    "                        if g.nodes()[nid]['M'].has_edge(*nodes) \n",
    "                        for edge in g.nodes()[nid]['M'].edges()\n",
    "                    }.intersection({edge for edge in M.edges()})), \n",
    "#                    'n_spoke_connections': ... # todo. \n",
    "#                    'n_link_or_spur_connections': \n",
    "                }\n",
    "                row['is_link'] = row['is_link_or_spur'] & row['is_treatment_condition']\n",
    "                row['is_spur'] = row['is_link_or_spur'] & ~row['is_treatment_condition']                \n",
    "                rows.append(row)\n",
    "\n",
    "    return rows\n",
    "\n"
   ]
  },
  {
   "cell_type": "code",
   "execution_count": 16,
   "metadata": {},
   "outputs": [],
   "source": [
    "with open(block_file, 'r') as f:\n",
    "    batch = json.load(f)\n",
    "\n",
    "hazard_factors_list = []\n",
    "for batch_name, game in batch.items():\n",
    "    for (active_player_id, g, t) in retrace(game):\n",
    "        hazard_factors_list += instantaneous_hazard_factors(game, g, t)\n",
    "\n",
    "\n",
    "hazard_factors = pd.DataFrame(hazard_factors_list)"
   ]
  },
  {
   "cell_type": "code",
   "execution_count": 17,
   "metadata": {
    "scrolled": false
   },
   "outputs": [
    {
     "name": "stderr",
     "output_type": "stream",
     "text": [
      "/usr/local/anaconda3/lib/python3.7/site-packages/ipykernel_launcher.py:15: SettingWithCopyWarning: \n",
      "A value is trying to be set on a copy of a slice from a DataFrame\n",
      "\n",
      "See the caveats in the documentation: http://pandas.pydata.org/pandas-docs/stable/user_guide/indexing.html#returning-a-view-versus-a-copy\n",
      "  from ipykernel import kernelapp as app\n",
      "/usr/local/anaconda3/lib/python3.7/site-packages/ipykernel_launcher.py:24: SettingWithCopyWarning: \n",
      "A value is trying to be set on a copy of a slice from a DataFrame.\n",
      "Try using .loc[row_indexer,col_indexer] = value instead\n",
      "\n",
      "See the caveats in the documentation: http://pandas.pydata.org/pandas-docs/stable/user_guide/indexing.html#returning-a-view-versus-a-copy\n",
      "/usr/local/anaconda3/lib/python3.7/site-packages/ipykernel_launcher.py:27: SettingWithCopyWarning: \n",
      "A value is trying to be set on a copy of a slice from a DataFrame.\n",
      "Try using .loc[row_indexer,col_indexer] = value instead\n",
      "\n",
      "See the caveats in the documentation: http://pandas.pydata.org/pandas-docs/stable/user_guide/indexing.html#returning-a-view-versus-a-copy\n",
      "/usr/local/anaconda3/lib/python3.7/site-packages/ipykernel_launcher.py:30: SettingWithCopyWarning: \n",
      "A value is trying to be set on a copy of a slice from a DataFrame.\n",
      "Try using .loc[row_indexer,col_indexer] = value instead\n",
      "\n",
      "See the caveats in the documentation: http://pandas.pydata.org/pandas-docs/stable/user_guide/indexing.html#returning-a-view-versus-a-copy\n",
      "/usr/local/anaconda3/lib/python3.7/site-packages/ipykernel_launcher.py:35: SettingWithCopyWarning: \n",
      "A value is trying to be set on a copy of a slice from a DataFrame.\n",
      "Try using .loc[row_indexer,col_indexer] = value instead\n",
      "\n",
      "See the caveats in the documentation: http://pandas.pydata.org/pandas-docs/stable/user_guide/indexing.html#returning-a-view-versus-a-copy\n",
      "/usr/local/anaconda3/lib/python3.7/site-packages/ipykernel_launcher.py:39: SettingWithCopyWarning: \n",
      "A value is trying to be set on a copy of a slice from a DataFrame.\n",
      "Try using .loc[row_indexer,col_indexer] = value instead\n",
      "\n",
      "See the caveats in the documentation: http://pandas.pydata.org/pandas-docs/stable/user_guide/indexing.html#returning-a-view-versus-a-copy\n"
     ]
    }
   ],
   "source": [
    "def process_exposure_group(group, t_last):\n",
    "    \"\"\"\n",
    "    Groups represent player-clue combinations, or unique \"exposure\" possibilities\n",
    "    Takes the hazard table and creates a table that lifelines can use.\n",
    "    1. Condenses multiple rows (by dropping duplicates)\n",
    "    2. Treats start and end times\n",
    "    3. Identifies adoption events\n",
    "    \"\"\"\n",
    "    \n",
    "    # discard player-clue groups where the player is never exposed to the clue\n",
    "    if max(group['n_exposures']) == 0: \n",
    "        return pd.DataFrame()\n",
    "    \n",
    "    # check that group is sorted\n",
    "    group.sort_values(['start'], inplace=True)\n",
    "    \n",
    "    # drop consecutive duplicate rows (ie, nothing changes w.r.t. the adoption factors)\n",
    "    match_on_cols = set(group.columns) - {'start'}\n",
    "    keep_rows = (group[match_on_cols].shift() != group[match_on_cols]).any(axis=1)\n",
    "    group = group.loc[keep_rows]\n",
    "\n",
    "    # identify exposures where the player is exposed at start\n",
    "    # the player may react differently to these than others\n",
    "    group['is_exposed_t0'] = (group[group['start']<3]['n_exposures'] > 0).any()\n",
    "    \n",
    "    # identify clues the player holds at start\n",
    "    group['is_held_t0'] = (group[group['start']<3]['is_in_leads']).any()\n",
    "\n",
    "    # add \"stop\" column\n",
    "    group['stop'] = group['start'].shift(-1)\n",
    "    group.loc[group.index[-1], 'stop'] = t_last\n",
    "    \n",
    "    # identify \"adopt\" events \n",
    "    # ie. the row period ends with an adoption change\n",
    "    group['adopt_event'] = group['is_in_leads'] < group.shift(-1)['is_in_leads']\n",
    "    group.loc[group.index[-1], 'adopt_event'] = False\n",
    "\n",
    "    # identify \"forget\" events\n",
    "    group['forget_event'] = group['is_in_leads'] > group.shift(-1)['is_in_leads']\n",
    "    group.loc[group.index[-1], 'forget_event'] = False\n",
    "\n",
    "    return group\n",
    "    \n",
    "\n",
    "t_final = datetime.strptime(game['finishedAt'], '%Y-%m-%dT%H:%M:%S.%fZ')\n",
    "t_start = datetime.strptime(game['createdAt'], '%Y-%m-%dT%H:%M:%S.%fZ')\n",
    "total_time = (t_final-t_start).total_seconds()\n",
    "\n",
    "res_list = []\n",
    "for i, (eid, group) in enumerate(hazard_factors.groupby('exposure_id')):\n",
    "    res_list.append(process_exposure_group(group, total_time))\n",
    "\n",
    "hazard_table = pd.concat(res_list)\n"
   ]
  },
  {
   "cell_type": "code",
   "execution_count": 18,
   "metadata": {},
   "outputs": [],
   "source": [
    "(hazard_table*1).to_csv(hazard_table_file)"
   ]
  },
  {
   "cell_type": "code",
   "execution_count": 19,
   "metadata": {},
   "outputs": [],
   "source": [
    "!say \"analysis complete\""
   ]
  },
  {
   "cell_type": "code",
   "execution_count": 26,
   "metadata": {},
   "outputs": [
    {
     "data": {
      "text/plain": [
       "True     217\n",
       "False     55\n",
       "Name: n_rim_connections, dtype: int64"
      ]
     },
     "execution_count": 26,
     "metadata": {},
     "output_type": "execute_result"
    }
   ],
   "source": [
    "(hazard_table[hazard_table['adopt_event'] \n",
    "              & hazard_table['is_spoke']\n",
    "              & hazard_table['is_treatment_condition']\n",
    "             ]['n_rim_connections'] > 0).value_counts()"
   ]
  },
  {
   "cell_type": "code",
   "execution_count": 27,
   "metadata": {},
   "outputs": [
    {
     "data": {
      "text/plain": [
       "True     171\n",
       "False    120\n",
       "Name: n_rim_connections, dtype: int64"
      ]
     },
     "execution_count": 27,
     "metadata": {},
     "output_type": "execute_result"
    }
   ],
   "source": [
    "(hazard_table[hazard_table['adopt_event'] \n",
    "              & hazard_table['is_spoke']\n",
    "              & ~hazard_table['is_treatment_condition']\n",
    "             ]['n_rim_connections'] > 0).value_counts()"
   ]
  },
  {
   "cell_type": "code",
   "execution_count": 11,
   "metadata": {},
   "outputs": [
    {
     "data": {
      "text/plain": [
       "True    257\n",
       "Name: is_in_leads, dtype: int64"
      ]
     },
     "execution_count": 11,
     "metadata": {},
     "output_type": "execute_result"
    }
   ],
   "source": [
    "hazard_table[hazard_table['forget_event']==1]['is_in_leads'].value_counts()"
   ]
  },
  {
   "cell_type": "code",
   "execution_count": 28,
   "metadata": {},
   "outputs": [
    {
     "data": {
      "text/plain": [
       "227.4079236234459"
      ]
     },
     "execution_count": 28,
     "metadata": {},
     "output_type": "execute_result"
    },
    {
     "data": {
      "image/png": "[encoded data removed]",
      "text/plain": [
       "<Figure size 432x288 with 1 Axes>"
      ]
     },
     "metadata": {
      "needs_background": "light"
     },
     "output_type": "display_data"
    }
   ],
   "source": [
    "plt.hist(hazard_table[hazard_table['adopt_event'] & hazard_table['is_spoke']]['start']);\n",
    "hazard_table[hazard_table['adopt_event'] & hazard_table['is_spoke']]['start'].mean()"
   ]
  },
  {
   "cell_type": "code",
   "execution_count": 29,
   "metadata": {},
   "outputs": [
    {
     "data": {
      "text/plain": [
       "221.94218584070805"
      ]
     },
     "execution_count": 29,
     "metadata": {},
     "output_type": "execute_result"
    },
    {
     "data": {
      "image/png": "[encoded data removed]",
      "text/plain": [
       "<Figure size 432x288 with 1 Axes>"
      ]
     },
     "metadata": {
      "needs_background": "light"
     },
     "output_type": "display_data"
    }
   ],
   "source": [
    "plt.hist(hazard_table[hazard_table['adopt_event'] & hazard_table['is_link_or_spur']]['start']);\n",
    "hazard_table[hazard_table['adopt_event'] & hazard_table['is_link_or_spur']]['start'].mean()"
   ]
  },
  {
   "cell_type": "code",
   "execution_count": 108,
   "metadata": {},
   "outputs": [
    {
     "data": {
      "text/plain": [
       "True     251\n",
       "False    108\n",
       "Name: rim_connections, dtype: int64"
      ]
     },
     "execution_count": 108,
     "metadata": {},
     "output_type": "execute_result"
    }
   ],
   "source": [
    "(hazard_table[hazard_table['adopt_event'] & hazard_table['is_spoke']]['rim_connections'] > 0).value_counts()"
   ]
  },
  {
   "cell_type": "code",
   "execution_count": 99,
   "metadata": {},
   "outputs": [
    {
     "data": {
      "text/plain": [
       "True     317\n",
       "False     45\n",
       "Name: rim_connections, dtype: int64"
      ]
     },
     "execution_count": 99,
     "metadata": {},
     "output_type": "execute_result"
    }
   ],
   "source": [
    "(hazard_table[hazard_table['adopt_event'] & hazard_table['is_link_or_spur']]['rim_connections'] > 0).value_counts()"
   ]
  },
  {
   "cell_type": "code",
   "execution_count": 23,
   "metadata": {},
   "outputs": [
    {
     "data": {
      "text/plain": [
       "{'_id': '6xqcSF4HGmibhb96j',\n",
       " 'readyAt': '2020-05-05T18:02:13.542Z',\n",
       " 'exitStepsDone': ['MakeTheCase', 'ExitSurvey'],\n",
       " 'exitAt': '2020-05-05T18:18:49.441Z',\n",
       " 'exitStatus': 'finished',\n",
       " 'createdAt': '2020-05-05T18:00:42.466Z',\n",
       " 'data.index': 5,\n",
       " 'data.position': 't5',\n",
       " 'data.alterIDs': ['QC99S28ruEE8MLdhK',\n",
       "  '8mWhGzqY826Tee4oh',\n",
       "  'SWm3TDdgkkmEJihyu'],\n",
       " 'data.log': [{'event': 'idle', 'data': {}, 'at': '2020-05-05T18:17:46.610Z'}],\n",
       " 'data.activity': 'active',\n",
       " 'data.notebookOrder': ['promising_leads', 'dead_ends'],\n",
       " 'data.notebooks': {'promising_leads': {'id': 'promising_leads',\n",
       "   'title': 'Promising Leads',\n",
       "   'clueIDs': ['tclue_1_2',\n",
       "    'tclue_2_10',\n",
       "    'tclue_1_10',\n",
       "    'tclue_2_5',\n",
       "    'tclue_1_6',\n",
       "    'tclue_2_13',\n",
       "    'tclue_2_6']},\n",
       "  'dead_ends': {'id': 'dead_ends',\n",
       "   'title': 'Dead Ends',\n",
       "   'clueIDs': ['tclue_12_13',\n",
       "    'tclue_3_6',\n",
       "    'tclue_3_10',\n",
       "    'tclue_1_3',\n",
       "    'tclue_5_13',\n",
       "    'tclue_3_5',\n",
       "    'tclue_4_5',\n",
       "    'tclue_5_8']}},\n",
       " 'data.initialState': {'promising_leads': {'id': 'promising_leads',\n",
       "   'title': 'Promising Leads',\n",
       "   'clueIDs': ['tclue_5_13', 'tclue_12_13', 'tclue_2_6', 'tclue_3_5']},\n",
       "  'dead_ends': {'id': 'dead_ends', 'title': 'Dead Ends', 'clueIDs': []}},\n",
       " 'data.active': 'idle once',\n",
       " 'data.caseMade': {'suspect_1': 50,\n",
       "  'suspect_2': 37,\n",
       "  'suspect_3': 60,\n",
       "  'appearance_1': 60,\n",
       "  'appearance_2': 60,\n",
       "  'clothing_1': 63,\n",
       "  'clothing_2': 50,\n",
       "  'tool_1': 50,\n",
       "  'tool_2': 50,\n",
       "  'vehicle_1': 46,\n",
       "  'vehicle_2': 59,\n",
       "  'confidence': 15,\n",
       "  'consensus': 26},\n",
       " 'data.individualBonus': 0.7000000000000001,\n",
       " 'data.teamBonus': 1,\n",
       " 'data.totalPay': 3.7,\n",
       " 'data.survey': {'age': '34',\n",
       "  'gender': 'male',\n",
       "  'education': 'high-school',\n",
       "  'strength': '',\n",
       "  'fair': 'yes',\n",
       "  'time': 'yes',\n",
       "  'feedback': 'none',\n",
       "  'strategy': 'At first it was intuition, but I realized I was starting to look for clues that fit my initial guess, rather than adjusting my guess to match the clues as they came up.'}}"
      ]
     },
     "execution_count": 23,
     "metadata": {},
     "output_type": "execute_result"
    }
   ],
   "source": [
    "player_data"
   ]
  },
  {
   "cell_type": "code",
   "execution_count": 25,
   "metadata": {},
   "outputs": [
    {
     "data": {
      "text/plain": [
       "EdgeView([('Mills', 'a silver VW Jetta'), ('Mills', 'Cooper'), ('a silver VW Jetta', 'a blue Toyota Yaris'), ('a blue long sleeve shirt', 'the bracelet')])"
      ]
     },
     "execution_count": 25,
     "metadata": {},
     "output_type": "execute_result"
    }
   ],
   "source": [
    "M.edges()"
   ]
  },
  {
   "cell_type": "code",
   "execution_count": 16,
   "metadata": {},
   "outputs": [
    {
     "data": {
      "text/plain": [
       "'xXvsHQvoQC4LsoyCi'"
      ]
     },
     "execution_count": 16,
     "metadata": {},
     "output_type": "execute_result"
    }
   ],
   "source": [
    "game['_id']"
   ]
  },
  {
   "cell_type": "code",
   "execution_count": null,
   "metadata": {},
   "outputs": [],
   "source": []
  }
 ],
 "metadata": {
  "kernelspec": {
   "display_name": "Python 3",
   "language": "python",
   "name": "python3"
  },
  "language_info": {
   "codemirror_mode": {
    "name": "ipython",
    "version": 3
   },
   "file_extension": ".py",
   "mimetype": "text/x-python",
   "name": "python",
   "nbconvert_exporter": "python",
   "pygments_lexer": "ipython3",
   "version": "3.7.6"
  }
 },
 "nbformat": 4,
 "nbformat_minor": 2
}
