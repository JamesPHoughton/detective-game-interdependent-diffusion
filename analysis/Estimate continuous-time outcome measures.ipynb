{
 "cells": [
  {
   "cell_type": "markdown",
   "metadata": {},
   "source": [
    "# Estimate Continuous-time outcome measures\n",
    "This notebook performs hazard rate regressions to estimate the predicted outcomes of the game that are measured continuously as users take actions.\n",
    "\n",
    "This notebook uses R "
   ]
  },
  {
   "cell_type": "code",
   "execution_count": 1,
   "metadata": {},
   "outputs": [],
   "source": [
    "library(plyr)\n",
    "library(survival)"
   ]
  },
  {
   "cell_type": "code",
   "execution_count": 2,
   "metadata": {},
   "outputs": [
    {
     "data": {
      "text/html": [
       "<ol class=list-inline>\n",
       "\t<li>'../results-anonymized/pilot/block_20200505_pilot_hazards.csv'</li>\n",
       "\t<li>'../results-anonymized/pilot/block_20200506_pilot_hazards.csv'</li>\n",
       "\t<li>'../results-anonymized/pilot/block_20200507_pilot_hazards.csv'</li>\n",
       "\t<li>'../results-anonymized/pilot/block_20200624_pilot_hazards.csv'</li>\n",
       "\t<li>'../results-anonymized/pilot/block_20200626_pilot_hazards.csv'</li>\n",
       "</ol>\n"
      ],
      "text/latex": [
       "\\begin{enumerate*}\n",
       "\\item '../results-anonymized/pilot/block\\_20200505\\_pilot\\_hazards.csv'\n",
       "\\item '../results-anonymized/pilot/block\\_20200506\\_pilot\\_hazards.csv'\n",
       "\\item '../results-anonymized/pilot/block\\_20200507\\_pilot\\_hazards.csv'\n",
       "\\item '../results-anonymized/pilot/block\\_20200624\\_pilot\\_hazards.csv'\n",
       "\\item '../results-anonymized/pilot/block\\_20200626\\_pilot\\_hazards.csv'\n",
       "\\end{enumerate*}\n"
      ],
      "text/markdown": [
       "1. '../results-anonymized/pilot/block_20200505_pilot_hazards.csv'\n",
       "2. '../results-anonymized/pilot/block_20200506_pilot_hazards.csv'\n",
       "3. '../results-anonymized/pilot/block_20200507_pilot_hazards.csv'\n",
       "4. '../results-anonymized/pilot/block_20200624_pilot_hazards.csv'\n",
       "5. '../results-anonymized/pilot/block_20200626_pilot_hazards.csv'\n",
       "\n",
       "\n"
      ],
      "text/plain": [
       "[1] \"../results-anonymized/pilot/block_20200505_pilot_hazards.csv\"\n",
       "[2] \"../results-anonymized/pilot/block_20200506_pilot_hazards.csv\"\n",
       "[3] \"../results-anonymized/pilot/block_20200507_pilot_hazards.csv\"\n",
       "[4] \"../results-anonymized/pilot/block_20200624_pilot_hazards.csv\"\n",
       "[5] \"../results-anonymized/pilot/block_20200626_pilot_hazards.csv\""
      ]
     },
     "metadata": {},
     "output_type": "display_data"
    }
   ],
   "source": [
    "working_dir = \"../results-anonymized/pilot/\"\n",
    "filenames <- Sys.glob(paste(working_dir,\"block_*_hazards.csv\", sep=\"\"))\n",
    "filenames"
   ]
  },
  {
   "cell_type": "code",
   "execution_count": 3,
   "metadata": {},
   "outputs": [
    {
     "data": {
      "text/html": [
       "<ol class=list-inline>\n",
       "\t<li>313182</li>\n",
       "\t<li>28</li>\n",
       "</ol>\n"
      ],
      "text/latex": [
       "\\begin{enumerate*}\n",
       "\\item 313182\n",
       "\\item 28\n",
       "\\end{enumerate*}\n"
      ],
      "text/markdown": [
       "1. 313182\n",
       "2. 28\n",
       "\n",
       "\n"
      ],
      "text/plain": [
       "[1] 313182     28"
      ]
     },
     "metadata": {},
     "output_type": "display_data"
    }
   ],
   "source": [
    "df <- ldply(lapply(filenames, read.csv, header=TRUE, stringsAsFactors=TRUE), rbind)\n",
    "dim(df)"
   ]
  },
  {
   "cell_type": "code",
   "execution_count": 4,
   "metadata": {},
   "outputs": [
    {
     "data": {
      "text/html": [
       "<ol class=list-inline>\n",
       "\t<li>'X'</li>\n",
       "\t<li>'start'</li>\n",
       "\t<li>'exposure_id'</li>\n",
       "\t<li>'player_id'</li>\n",
       "\t<li>'game_id'</li>\n",
       "\t<li>'is_treatment_condition'</li>\n",
       "\t<li>'is_spoke'</li>\n",
       "\t<li>'is_link_or_spur'</li>\n",
       "\t<li>'is_prompt'</li>\n",
       "\t<li>'is_in_leads'</li>\n",
       "\t<li>'is_in_deads'</li>\n",
       "\t<li>'n_exposures'</li>\n",
       "\t<li>'n_existing_leads'</li>\n",
       "\t<li>'in_startup'</li>\n",
       "\t<li>'in_peak'</li>\n",
       "\t<li>'in_tail'</li>\n",
       "\t<li>'in_close'</li>\n",
       "\t<li>'n_rim_connections'</li>\n",
       "\t<li>'n_triangle_paths'</li>\n",
       "\t<li>'n_edges_shared_with_exposers'</li>\n",
       "\t<li>'is_link'</li>\n",
       "\t<li>'is_spur'</li>\n",
       "\t<li>'is_exposed_t0'</li>\n",
       "\t<li>'is_held_t0'</li>\n",
       "\t<li>'stop'</li>\n",
       "\t<li>'adopt_event'</li>\n",
       "\t<li>'forget_event'</li>\n",
       "\t<li>'is_caveman_game'</li>\n",
       "</ol>\n"
      ],
      "text/latex": [
       "\\begin{enumerate*}\n",
       "\\item 'X'\n",
       "\\item 'start'\n",
       "\\item 'exposure\\_id'\n",
       "\\item 'player\\_id'\n",
       "\\item 'game\\_id'\n",
       "\\item 'is\\_treatment\\_condition'\n",
       "\\item 'is\\_spoke'\n",
       "\\item 'is\\_link\\_or\\_spur'\n",
       "\\item 'is\\_prompt'\n",
       "\\item 'is\\_in\\_leads'\n",
       "\\item 'is\\_in\\_deads'\n",
       "\\item 'n\\_exposures'\n",
       "\\item 'n\\_existing\\_leads'\n",
       "\\item 'in\\_startup'\n",
       "\\item 'in\\_peak'\n",
       "\\item 'in\\_tail'\n",
       "\\item 'in\\_close'\n",
       "\\item 'n\\_rim\\_connections'\n",
       "\\item 'n\\_triangle\\_paths'\n",
       "\\item 'n\\_edges\\_shared\\_with\\_exposers'\n",
       "\\item 'is\\_link'\n",
       "\\item 'is\\_spur'\n",
       "\\item 'is\\_exposed\\_t0'\n",
       "\\item 'is\\_held\\_t0'\n",
       "\\item 'stop'\n",
       "\\item 'adopt\\_event'\n",
       "\\item 'forget\\_event'\n",
       "\\item 'is\\_caveman\\_game'\n",
       "\\end{enumerate*}\n"
      ],
      "text/markdown": [
       "1. 'X'\n",
       "2. 'start'\n",
       "3. 'exposure_id'\n",
       "4. 'player_id'\n",
       "5. 'game_id'\n",
       "6. 'is_treatment_condition'\n",
       "7. 'is_spoke'\n",
       "8. 'is_link_or_spur'\n",
       "9. 'is_prompt'\n",
       "10. 'is_in_leads'\n",
       "11. 'is_in_deads'\n",
       "12. 'n_exposures'\n",
       "13. 'n_existing_leads'\n",
       "14. 'in_startup'\n",
       "15. 'in_peak'\n",
       "16. 'in_tail'\n",
       "17. 'in_close'\n",
       "18. 'n_rim_connections'\n",
       "19. 'n_triangle_paths'\n",
       "20. 'n_edges_shared_with_exposers'\n",
       "21. 'is_link'\n",
       "22. 'is_spur'\n",
       "23. 'is_exposed_t0'\n",
       "24. 'is_held_t0'\n",
       "25. 'stop'\n",
       "26. 'adopt_event'\n",
       "27. 'forget_event'\n",
       "28. 'is_caveman_game'\n",
       "\n",
       "\n"
      ],
      "text/plain": [
       " [1] \"X\"                            \"start\"                       \n",
       " [3] \"exposure_id\"                  \"player_id\"                   \n",
       " [5] \"game_id\"                      \"is_treatment_condition\"      \n",
       " [7] \"is_spoke\"                     \"is_link_or_spur\"             \n",
       " [9] \"is_prompt\"                    \"is_in_leads\"                 \n",
       "[11] \"is_in_deads\"                  \"n_exposures\"                 \n",
       "[13] \"n_existing_leads\"             \"in_startup\"                  \n",
       "[15] \"in_peak\"                      \"in_tail\"                     \n",
       "[17] \"in_close\"                     \"n_rim_connections\"           \n",
       "[19] \"n_triangle_paths\"             \"n_edges_shared_with_exposers\"\n",
       "[21] \"is_link\"                      \"is_spur\"                     \n",
       "[23] \"is_exposed_t0\"                \"is_held_t0\"                  \n",
       "[25] \"stop\"                         \"adopt_event\"                 \n",
       "[27] \"forget_event\"                 \"is_caveman_game\"             "
      ]
     },
     "metadata": {},
     "output_type": "display_data"
    }
   ],
   "source": [
    "names(df)"
   ]
  },
  {
   "cell_type": "code",
   "execution_count": 5,
   "metadata": {},
   "outputs": [
    {
     "data": {
      "text/html": [
       "<ol class=list-inline>\n",
       "\t<li>24990</li>\n",
       "\t<li>28</li>\n",
       "</ol>\n"
      ],
      "text/latex": [
       "\\begin{enumerate*}\n",
       "\\item 24990\n",
       "\\item 28\n",
       "\\end{enumerate*}\n"
      ],
      "text/markdown": [
       "1. 24990\n",
       "2. 28\n",
       "\n",
       "\n"
      ],
      "text/plain": [
       "[1] 24990    28"
      ]
     },
     "metadata": {},
     "output_type": "display_data"
    }
   ],
   "source": [
    "# create subset that only includes clues that are candidates for adoption\n",
    "# also, only look at spoke clues which are the same across conditions\n",
    "# and ignore the clues an individual is exposed to at t0, because their neighbors didn't choose to adopt them\n",
    "adopt_ht = subset(df, is_in_leads == 0 & n_exposures > 0 & is_spoke == 1 & is_exposed_t0==0)\n",
    "dim(adopt_ht)"
   ]
  },
  {
   "cell_type": "code",
   "execution_count": 6,
   "metadata": {},
   "outputs": [
    {
     "data": {
      "text/html": [
       "<table>\n",
       "<thead><tr><th></th><th scope=col>X</th><th scope=col>start</th><th scope=col>exposure_id</th><th scope=col>player_id</th><th scope=col>game_id</th><th scope=col>is_treatment_condition</th><th scope=col>is_spoke</th><th scope=col>is_link_or_spur</th><th scope=col>is_prompt</th><th scope=col>is_in_leads</th><th scope=col>...</th><th scope=col>is_held_t0</th><th scope=col>stop</th><th scope=col>adopt_event</th><th scope=col>forget_event</th><th scope=col>is_caveman_game</th><th scope=col>t_n_exposures</th><th scope=col>t_n_rim_connections</th><th scope=col>t_is_in_deads</th><th scope=col>triangle_paths_exist</th><th scope=col>t_n_edges_shared_with_exposers</th></tr></thead>\n",
       "<tbody>\n",
       "\t<tr><th scope=row>200</th><td> 643040                     </td><td> 98.624                     </td><td>2TGzq8Txds8TAmHFE_tclue_1_10</td><td>2TGzq8Txds8TAmHFE           </td><td>xXvsHQvoQC4LsoyCi           </td><td>1                           </td><td>1                           </td><td>0                           </td><td>0                           </td><td>0                           </td><td>...                         </td><td>0                           </td><td>102.463                     </td><td>1                           </td><td>0                           </td><td>0                           </td><td>1                           </td><td>2                           </td><td>0                           </td><td>0                           </td><td>2                           </td></tr>\n",
       "\t<tr><th scope=row>300</th><td>3435441                     </td><td>438.922                     </td><td>2TGzq8Txds8TAmHFE_tclue_1_11</td><td>2TGzq8Txds8TAmHFE           </td><td>xXvsHQvoQC4LsoyCi           </td><td>1                           </td><td>1                           </td><td>0                           </td><td>0                           </td><td>0                           </td><td>...                         </td><td>0                           </td><td>441.372                     </td><td>0                           </td><td>0                           </td><td>0                           </td><td>1                           </td><td>2                           </td><td>0                           </td><td>1                           </td><td>3                           </td></tr>\n",
       "\t<tr><th scope=row>301</th><td>3457281                     </td><td>441.372                     </td><td>2TGzq8Txds8TAmHFE_tclue_1_11</td><td>2TGzq8Txds8TAmHFE           </td><td>xXvsHQvoQC4LsoyCi           </td><td>1                           </td><td>1                           </td><td>0                           </td><td>0                           </td><td>0                           </td><td>...                         </td><td>0                           </td><td>445.579                     </td><td>0                           </td><td>0                           </td><td>0                           </td><td>1                           </td><td>2                           </td><td>0                           </td><td>1                           </td><td>3                           </td></tr>\n",
       "\t<tr><th scope=row>302</th><td>3482241                     </td><td>445.579                     </td><td>2TGzq8Txds8TAmHFE_tclue_1_11</td><td>2TGzq8Txds8TAmHFE           </td><td>xXvsHQvoQC4LsoyCi           </td><td>1                           </td><td>1                           </td><td>0                           </td><td>0                           </td><td>0                           </td><td>...                         </td><td>0                           </td><td>457.260                     </td><td>1                           </td><td>0                           </td><td>0                           </td><td>1                           </td><td>2                           </td><td>0                           </td><td>1                           </td><td>3                           </td></tr>\n",
       "\t<tr><th scope=row>444</th><td> 680474                     </td><td>102.418                     </td><td>2TGzq8Txds8TAmHFE_tclue_1_4 </td><td>2TGzq8Txds8TAmHFE           </td><td>xXvsHQvoQC4LsoyCi           </td><td>1                           </td><td>1                           </td><td>0                           </td><td>0                           </td><td>0                           </td><td>...                         </td><td>0                           </td><td>102.463                     </td><td>0                           </td><td>0                           </td><td>0                           </td><td>1                           </td><td>0                           </td><td>0                           </td><td>0                           </td><td>2                           </td></tr>\n",
       "\t<tr><th scope=row>445</th><td> 683594                     </td><td>102.463                     </td><td>2TGzq8Txds8TAmHFE_tclue_1_4 </td><td>2TGzq8Txds8TAmHFE           </td><td>xXvsHQvoQC4LsoyCi           </td><td>1                           </td><td>1                           </td><td>0                           </td><td>0                           </td><td>0                           </td><td>...                         </td><td>0                           </td><td>104.378                     </td><td>0                           </td><td>0                           </td><td>0                           </td><td>1                           </td><td>0                           </td><td>0                           </td><td>0                           </td><td>2                           </td></tr>\n",
       "</tbody>\n",
       "</table>\n"
      ],
      "text/latex": [
       "\\begin{tabular}{r|lllllllllllllllllllllllllllllllll}\n",
       "  & X & start & exposure\\_id & player\\_id & game\\_id & is\\_treatment\\_condition & is\\_spoke & is\\_link\\_or\\_spur & is\\_prompt & is\\_in\\_leads & ... & is\\_held\\_t0 & stop & adopt\\_event & forget\\_event & is\\_caveman\\_game & t\\_n\\_exposures & t\\_n\\_rim\\_connections & t\\_is\\_in\\_deads & triangle\\_paths\\_exist & t\\_n\\_edges\\_shared\\_with\\_exposers\\\\\n",
       "\\hline\n",
       "\t200 &  643040                            &  98.624                            & 2TGzq8Txds8TAmHFE\\_tclue\\_1\\_10 & 2TGzq8Txds8TAmHFE                  & xXvsHQvoQC4LsoyCi                  & 1                                  & 1                                  & 0                                  & 0                                  & 0                                  & ...                                & 0                                  & 102.463                            & 1                                  & 0                                  & 0                                  & 1                                  & 2                                  & 0                                  & 0                                  & 2                                 \\\\\n",
       "\t300 & 3435441                            & 438.922                            & 2TGzq8Txds8TAmHFE\\_tclue\\_1\\_11 & 2TGzq8Txds8TAmHFE                  & xXvsHQvoQC4LsoyCi                  & 1                                  & 1                                  & 0                                  & 0                                  & 0                                  & ...                                & 0                                  & 441.372                            & 0                                  & 0                                  & 0                                  & 1                                  & 2                                  & 0                                  & 1                                  & 3                                 \\\\\n",
       "\t301 & 3457281                            & 441.372                            & 2TGzq8Txds8TAmHFE\\_tclue\\_1\\_11 & 2TGzq8Txds8TAmHFE                  & xXvsHQvoQC4LsoyCi                  & 1                                  & 1                                  & 0                                  & 0                                  & 0                                  & ...                                & 0                                  & 445.579                            & 0                                  & 0                                  & 0                                  & 1                                  & 2                                  & 0                                  & 1                                  & 3                                 \\\\\n",
       "\t302 & 3482241                            & 445.579                            & 2TGzq8Txds8TAmHFE\\_tclue\\_1\\_11 & 2TGzq8Txds8TAmHFE                  & xXvsHQvoQC4LsoyCi                  & 1                                  & 1                                  & 0                                  & 0                                  & 0                                  & ...                                & 0                                  & 457.260                            & 1                                  & 0                                  & 0                                  & 1                                  & 2                                  & 0                                  & 1                                  & 3                                 \\\\\n",
       "\t444 &  680474                            & 102.418                            & 2TGzq8Txds8TAmHFE\\_tclue\\_1\\_4  & 2TGzq8Txds8TAmHFE                  & xXvsHQvoQC4LsoyCi                  & 1                                  & 1                                  & 0                                  & 0                                  & 0                                  & ...                                & 0                                  & 102.463                            & 0                                  & 0                                  & 0                                  & 1                                  & 0                                  & 0                                  & 0                                  & 2                                 \\\\\n",
       "\t445 &  683594                            & 102.463                            & 2TGzq8Txds8TAmHFE\\_tclue\\_1\\_4  & 2TGzq8Txds8TAmHFE                  & xXvsHQvoQC4LsoyCi                  & 1                                  & 1                                  & 0                                  & 0                                  & 0                                  & ...                                & 0                                  & 104.378                            & 0                                  & 0                                  & 0                                  & 1                                  & 0                                  & 0                                  & 0                                  & 2                                 \\\\\n",
       "\\end{tabular}\n"
      ],
      "text/markdown": [
       "\n",
       "| <!--/--> | X | start | exposure_id | player_id | game_id | is_treatment_condition | is_spoke | is_link_or_spur | is_prompt | is_in_leads | ... | is_held_t0 | stop | adopt_event | forget_event | is_caveman_game | t_n_exposures | t_n_rim_connections | t_is_in_deads | triangle_paths_exist | t_n_edges_shared_with_exposers |\n",
       "|---|---|---|---|---|---|---|---|---|---|---|---|---|---|---|---|---|---|---|---|---|---|\n",
       "| 200 |  643040                      |  98.624                      | 2TGzq8Txds8TAmHFE_tclue_1_10 | 2TGzq8Txds8TAmHFE            | xXvsHQvoQC4LsoyCi            | 1                            | 1                            | 0                            | 0                            | 0                            | ...                          | 0                            | 102.463                      | 1                            | 0                            | 0                            | 1                            | 2                            | 0                            | 0                            | 2                            |\n",
       "| 300 | 3435441                      | 438.922                      | 2TGzq8Txds8TAmHFE_tclue_1_11 | 2TGzq8Txds8TAmHFE            | xXvsHQvoQC4LsoyCi            | 1                            | 1                            | 0                            | 0                            | 0                            | ...                          | 0                            | 441.372                      | 0                            | 0                            | 0                            | 1                            | 2                            | 0                            | 1                            | 3                            |\n",
       "| 301 | 3457281                      | 441.372                      | 2TGzq8Txds8TAmHFE_tclue_1_11 | 2TGzq8Txds8TAmHFE            | xXvsHQvoQC4LsoyCi            | 1                            | 1                            | 0                            | 0                            | 0                            | ...                          | 0                            | 445.579                      | 0                            | 0                            | 0                            | 1                            | 2                            | 0                            | 1                            | 3                            |\n",
       "| 302 | 3482241                      | 445.579                      | 2TGzq8Txds8TAmHFE_tclue_1_11 | 2TGzq8Txds8TAmHFE            | xXvsHQvoQC4LsoyCi            | 1                            | 1                            | 0                            | 0                            | 0                            | ...                          | 0                            | 457.260                      | 1                            | 0                            | 0                            | 1                            | 2                            | 0                            | 1                            | 3                            |\n",
       "| 444 |  680474                      | 102.418                      | 2TGzq8Txds8TAmHFE_tclue_1_4  | 2TGzq8Txds8TAmHFE            | xXvsHQvoQC4LsoyCi            | 1                            | 1                            | 0                            | 0                            | 0                            | ...                          | 0                            | 102.463                      | 0                            | 0                            | 0                            | 1                            | 0                            | 0                            | 0                            | 2                            |\n",
       "| 445 |  683594                      | 102.463                      | 2TGzq8Txds8TAmHFE_tclue_1_4  | 2TGzq8Txds8TAmHFE            | xXvsHQvoQC4LsoyCi            | 1                            | 1                            | 0                            | 0                            | 0                            | ...                          | 0                            | 104.378                      | 0                            | 0                            | 0                            | 1                            | 0                            | 0                            | 0                            | 2                            |\n",
       "\n"
      ],
      "text/plain": [
       "    X       start   exposure_id                  player_id        \n",
       "200  643040  98.624 2TGzq8Txds8TAmHFE_tclue_1_10 2TGzq8Txds8TAmHFE\n",
       "300 3435441 438.922 2TGzq8Txds8TAmHFE_tclue_1_11 2TGzq8Txds8TAmHFE\n",
       "301 3457281 441.372 2TGzq8Txds8TAmHFE_tclue_1_11 2TGzq8Txds8TAmHFE\n",
       "302 3482241 445.579 2TGzq8Txds8TAmHFE_tclue_1_11 2TGzq8Txds8TAmHFE\n",
       "444  680474 102.418 2TGzq8Txds8TAmHFE_tclue_1_4  2TGzq8Txds8TAmHFE\n",
       "445  683594 102.463 2TGzq8Txds8TAmHFE_tclue_1_4  2TGzq8Txds8TAmHFE\n",
       "    game_id           is_treatment_condition is_spoke is_link_or_spur is_prompt\n",
       "200 xXvsHQvoQC4LsoyCi 1                      1        0               0        \n",
       "300 xXvsHQvoQC4LsoyCi 1                      1        0               0        \n",
       "301 xXvsHQvoQC4LsoyCi 1                      1        0               0        \n",
       "302 xXvsHQvoQC4LsoyCi 1                      1        0               0        \n",
       "444 xXvsHQvoQC4LsoyCi 1                      1        0               0        \n",
       "445 xXvsHQvoQC4LsoyCi 1                      1        0               0        \n",
       "    is_in_leads ... is_held_t0 stop    adopt_event forget_event is_caveman_game\n",
       "200 0           ... 0          102.463 1           0            0              \n",
       "300 0           ... 0          441.372 0           0            0              \n",
       "301 0           ... 0          445.579 0           0            0              \n",
       "302 0           ... 0          457.260 1           0            0              \n",
       "444 0           ... 0          102.463 0           0            0              \n",
       "445 0           ... 0          104.378 0           0            0              \n",
       "    t_n_exposures t_n_rim_connections t_is_in_deads triangle_paths_exist\n",
       "200 1             2                   0             0                   \n",
       "300 1             2                   0             1                   \n",
       "301 1             2                   0             1                   \n",
       "302 1             2                   0             1                   \n",
       "444 1             0                   0             0                   \n",
       "445 1             0                   0             0                   \n",
       "    t_n_edges_shared_with_exposers\n",
       "200 2                             \n",
       "300 3                             \n",
       "301 3                             \n",
       "302 3                             \n",
       "444 2                             \n",
       "445 2                             "
      ]
     },
     "metadata": {},
     "output_type": "display_data"
    }
   ],
   "source": [
    "# create interaction terms with treatment\n",
    "adopt_ht$t_n_exposures = adopt_ht$n_exposures * adopt_ht$is_treatment_condition\n",
    "adopt_ht$t_n_rim_connections = adopt_ht$n_rim_connections * adopt_ht$is_treatment_condition\n",
    "adopt_ht$t_is_in_deads = adopt_ht$is_in_deads * adopt_ht$is_treatment_condition\n",
    "adopt_ht$triangle_paths_exist = 1*(adopt_ht$n_triangle_paths > 0)\n",
    "adopt_ht$t_n_edges_shared_with_exposers = adopt_ht$n_edges_shared_with_exposers * adopt_ht$is_treatment_condition\n",
    "head(adopt_ht)"
   ]
  },
  {
   "cell_type": "markdown",
   "metadata": {},
   "source": [
    "# Estimate effect of familiarity, supporting pathways on adoption\n",
    "\n",
    "Use this regression in the manipulation check - if there is no effect of n_triangle_paths, then we expect the treatment and control conditions to be identical, as there isn't interdependence between clues other than through the familiarity mechanism, and so the spoke clues are independent of one another."
   ]
  },
  {
   "cell_type": "code",
   "execution_count": 7,
   "metadata": {},
   "outputs": [
    {
     "name": "stderr",
     "output_type": "stream",
     "text": [
      "Warning message in coxpenal.fit(X, Y, strats, offset, init = init, control, weights = weights, :\n",
      "“Inner loop failed to coverge for iterations 2 4 5 6”"
     ]
    },
    {
     "data": {
      "text/plain": [
       "Call:\n",
       "coxph(formula = Surv(time = start, time2 = stop, event = adopt_event, \n",
       "    type = \"counting\") ~ in_startup + in_peak + in_close + in_tail + \n",
       "    n_exposures + t_n_exposures + n_triangle_paths + n_rim_connections + \n",
       "    t_n_rim_connections + is_in_deads + t_is_in_deads + n_existing_leads + \n",
       "    frailty.gaussian(player_id), data = adopt_ht)\n",
       "\n",
       "                               coef  se(coef)       se2     Chisq  DF       p\n",
       "in_startup                           0.00e+00  0.00e+00             1        \n",
       "in_peak                    2.58e+01  3.53e+01  3.53e+01  5.32e-01   1    0.47\n",
       "in_close                             0.00e+00  0.00e+00             1        \n",
       "in_tail                              0.00e+00  0.00e+00             1        \n",
       "n_exposures                5.01e-01  6.75e-02  6.27e-02  5.50e+01   1 1.2e-13\n",
       "t_n_exposures             -1.15e-01  8.15e-02  6.47e-02  2.01e+00   1    0.16\n",
       "n_triangle_paths           5.79e-02  5.65e-02  5.48e-02  1.05e+00   1    0.31\n",
       "n_rim_connections          4.65e-01  3.06e-02  2.97e-02  2.31e+02   1 < 2e-16\n",
       "t_n_rim_connections       -1.93e-01  4.15e-02  3.98e-02  2.16e+01   1 3.3e-06\n",
       "is_in_deads               -1.89e+00  1.65e-01  1.62e-01  1.31e+02   1 < 2e-16\n",
       "t_is_in_deads             -3.58e-01  2.57e-01  2.53e-01  1.95e+00   1    0.16\n",
       "n_existing_leads           7.01e-02  8.88e-03  7.46e-03  6.24e+01   1 2.8e-15\n",
       "frailty.gaussian(player_i                                1.18e+03 242 < 2e-16\n",
       "\n",
       "Iterations: 6 outer, 99 Newton-Raphson\n",
       "     Variance of random effect= 0.937 \n",
       "Degrees of freedom for terms=   NaN   1.0   NaN   NaN   0.9   0.6   0.9   0.9   0.9   1.0   1.0   0.7 241.9 \n",
       "Likelihood ratio test=2482  on NaN df, p=NA\n",
       "n= 24990, number of events= 1513 "
      ]
     },
     "metadata": {},
     "output_type": "display_data"
    }
   ],
   "source": [
    "factors_fit <- coxph(\n",
    "    Surv(time=start, time2=stop, event=adopt_event, type='counting') ~\n",
    "        in_startup + in_peak + in_close + in_tail + # timing dummies \n",
    "        #is_link + is_spur + is_spoke + # is_prompt + # type of clue dummies\n",
    "        n_exposures + t_n_exposures + # social reinforcement\n",
    "        n_triangle_paths +  # \"logical\" support\n",
    "        #triangle_paths_exist +\n",
    "        n_rim_connections + t_n_rim_connections + # familiarity with concepts\n",
    "        is_in_deads + t_is_in_deads + # prior rejection\n",
    "        n_existing_leads +  # current state of notebook\n",
    "        frailty.gaussian(player_id),  # random player effect (as players have different play speeds)\n",
    "    data=adopt_ht,\n",
    ")\n",
    "\n",
    "factors_fit"
   ]
  },
  {
   "cell_type": "code",
   "execution_count": 8,
   "metadata": {},
   "outputs": [
    {
     "data": {
      "text/html": [
       "<table>\n",
       "<thead><tr><th></th><th scope=col>exp(coef)</th><th scope=col>exp(-coef)</th><th scope=col>lower .95</th><th scope=col>upper .95</th><th scope=col>coef</th><th scope=col>se(coef)</th><th scope=col>se2</th><th scope=col>Chisq</th><th scope=col>DF</th><th scope=col>p</th></tr></thead>\n",
       "<tbody>\n",
       "\t<tr><th scope=row>in_close</th><td>          NA</td><td>          NA</td><td>          NA</td><td>          NA</td><td>         NA </td><td> 0.000000000</td><td> 0.00000000 </td><td>         NA </td><td>1           </td><td>          NA</td></tr>\n",
       "\t<tr><th scope=row>in_peak</th><td>1.570433e+11</td><td>6.367670e-12</td><td>1.310891e-19</td><td>1.881362e+41</td><td>25.77978753 </td><td>35.336464165</td><td>35.33640104 </td><td>  0.5322461 </td><td>1           </td><td>4.656641e-01</td></tr>\n",
       "\t<tr><th scope=row>in_startup</th><td>          NA</td><td>          NA</td><td>          NA</td><td>          NA</td><td>         NA </td><td> 0.000000000</td><td> 0.00000000 </td><td>         NA </td><td>1           </td><td>          NA</td></tr>\n",
       "\t<tr><th scope=row>in_tail</th><td>          NA</td><td>          NA</td><td>          NA</td><td>          NA</td><td>         NA </td><td> 0.000000000</td><td> 0.00000000 </td><td>         NA </td><td>1           </td><td>          NA</td></tr>\n",
       "\t<tr><th scope=row>is_in_deads</th><td>1.510180e-01</td><td>6.621729e+00</td><td>1.093119e-01</td><td>2.086363e-01</td><td>-1.89035648 </td><td> 0.164897810</td><td> 0.16232950 </td><td>131.4188441 </td><td>1           </td><td>2.005062e-30</td></tr>\n",
       "\t<tr><th scope=row>n_existing_leads</th><td>1.072663e+00</td><td>9.322596e-01</td><td>1.054160e+00</td><td>1.091490e+00</td><td> 0.07014400 </td><td> 0.008877428</td><td> 0.00745667 </td><td> 62.4319207 </td><td>1           </td><td>2.758162e-15</td></tr>\n",
       "\t<tr><th scope=row>n_exposures</th><td>1.649851e+00</td><td>6.061155e-01</td><td>1.445281e+00</td><td>1.883376e+00</td><td> 0.50068475 </td><td> 0.067542571</td><td> 0.06268737 </td><td> 54.9507401 </td><td>1           </td><td>1.235888e-13</td></tr>\n",
       "\t<tr><th scope=row>n_rim_connections</th><td>1.592242e+00</td><td>6.280453e-01</td><td>1.499628e+00</td><td>1.690575e+00</td><td> 0.46514305 </td><td> 0.030574996</td><td> 0.02968823 </td><td>231.4409809 </td><td>1           </td><td>2.891298e-52</td></tr>\n",
       "\t<tr><th scope=row>n_triangle_paths</th><td>1.059642e+00</td><td>9.437146e-01</td><td>9.485427e-01</td><td>1.183755e+00</td><td> 0.05793146 </td><td> 0.056511208</td><td> 0.05483761 </td><td>  1.0508959 </td><td>1           </td><td>3.053008e-01</td></tr>\n",
       "\t<tr><th scope=row>t_is_in_deads</th><td>6.990039e-01</td><td>1.430607e+00</td><td>4.227174e-01</td><td>1.155870e+00</td><td>-0.35809897 </td><td> 0.256613109</td><td> 0.25276142 </td><td>  1.9473700 </td><td>1           </td><td>1.628705e-01</td></tr>\n",
       "\t<tr><th scope=row>t_n_exposures</th><td>8.909284e-01</td><td>1.122425e+00</td><td>7.593255e-01</td><td>1.045340e+00</td><td>-0.11549122 </td><td> 0.081549238</td><td> 0.06472028 </td><td>  2.0056638 </td><td>1           </td><td>1.567127e-01</td></tr>\n",
       "\t<tr><th scope=row>t_n_rim_connections</th><td>8.242286e-01</td><td>1.213256e+00</td><td>7.597633e-01</td><td>8.941638e-01</td><td>-0.19330733 </td><td> 0.041552305</td><td> 0.03983714 </td><td> 21.6424496 </td><td>1           </td><td>3.285005e-06</td></tr>\n",
       "</tbody>\n",
       "</table>\n"
      ],
      "text/latex": [
       "\\begin{tabular}{r|llllllllll}\n",
       "  & exp(coef) & exp(-coef) & lower .95 & upper .95 & coef & se(coef) & se2 & Chisq & DF & p\\\\\n",
       "\\hline\n",
       "\tin\\_close &           NA &           NA &           NA &           NA &          NA  &  0.000000000 &  0.00000000  &          NA  & 1            &           NA\\\\\n",
       "\tin\\_peak & 1.570433e+11 & 6.367670e-12 & 1.310891e-19 & 1.881362e+41 & 25.77978753  & 35.336464165 & 35.33640104  &   0.5322461  & 1            & 4.656641e-01\\\\\n",
       "\tin\\_startup &           NA &           NA &           NA &           NA &          NA  &  0.000000000 &  0.00000000  &          NA  & 1            &           NA\\\\\n",
       "\tin\\_tail &           NA &           NA &           NA &           NA &          NA  &  0.000000000 &  0.00000000  &          NA  & 1            &           NA\\\\\n",
       "\tis\\_in\\_deads & 1.510180e-01 & 6.621729e+00 & 1.093119e-01 & 2.086363e-01 & -1.89035648  &  0.164897810 &  0.16232950  & 131.4188441  & 1            & 2.005062e-30\\\\\n",
       "\tn\\_existing\\_leads & 1.072663e+00 & 9.322596e-01 & 1.054160e+00 & 1.091490e+00 &  0.07014400  &  0.008877428 &  0.00745667  &  62.4319207  & 1            & 2.758162e-15\\\\\n",
       "\tn\\_exposures & 1.649851e+00 & 6.061155e-01 & 1.445281e+00 & 1.883376e+00 &  0.50068475  &  0.067542571 &  0.06268737  &  54.9507401  & 1            & 1.235888e-13\\\\\n",
       "\tn\\_rim\\_connections & 1.592242e+00 & 6.280453e-01 & 1.499628e+00 & 1.690575e+00 &  0.46514305  &  0.030574996 &  0.02968823  & 231.4409809  & 1            & 2.891298e-52\\\\\n",
       "\tn\\_triangle\\_paths & 1.059642e+00 & 9.437146e-01 & 9.485427e-01 & 1.183755e+00 &  0.05793146  &  0.056511208 &  0.05483761  &   1.0508959  & 1            & 3.053008e-01\\\\\n",
       "\tt\\_is\\_in\\_deads & 6.990039e-01 & 1.430607e+00 & 4.227174e-01 & 1.155870e+00 & -0.35809897  &  0.256613109 &  0.25276142  &   1.9473700  & 1            & 1.628705e-01\\\\\n",
       "\tt\\_n\\_exposures & 8.909284e-01 & 1.122425e+00 & 7.593255e-01 & 1.045340e+00 & -0.11549122  &  0.081549238 &  0.06472028  &   2.0056638  & 1            & 1.567127e-01\\\\\n",
       "\tt\\_n\\_rim\\_connections & 8.242286e-01 & 1.213256e+00 & 7.597633e-01 & 8.941638e-01 & -0.19330733  &  0.041552305 &  0.03983714  &  21.6424496  & 1            & 3.285005e-06\\\\\n",
       "\\end{tabular}\n"
      ],
      "text/markdown": [
       "\n",
       "| <!--/--> | exp(coef) | exp(-coef) | lower .95 | upper .95 | coef | se(coef) | se2 | Chisq | DF | p |\n",
       "|---|---|---|---|---|---|---|---|---|---|---|\n",
       "| in_close |           NA |           NA |           NA |           NA |          NA  |  0.000000000 |  0.00000000  |          NA  | 1            |           NA |\n",
       "| in_peak | 1.570433e+11 | 6.367670e-12 | 1.310891e-19 | 1.881362e+41 | 25.77978753  | 35.336464165 | 35.33640104  |   0.5322461  | 1            | 4.656641e-01 |\n",
       "| in_startup |           NA |           NA |           NA |           NA |          NA  |  0.000000000 |  0.00000000  |          NA  | 1            |           NA |\n",
       "| in_tail |           NA |           NA |           NA |           NA |          NA  |  0.000000000 |  0.00000000  |          NA  | 1            |           NA |\n",
       "| is_in_deads | 1.510180e-01 | 6.621729e+00 | 1.093119e-01 | 2.086363e-01 | -1.89035648  |  0.164897810 |  0.16232950  | 131.4188441  | 1            | 2.005062e-30 |\n",
       "| n_existing_leads | 1.072663e+00 | 9.322596e-01 | 1.054160e+00 | 1.091490e+00 |  0.07014400  |  0.008877428 |  0.00745667  |  62.4319207  | 1            | 2.758162e-15 |\n",
       "| n_exposures | 1.649851e+00 | 6.061155e-01 | 1.445281e+00 | 1.883376e+00 |  0.50068475  |  0.067542571 |  0.06268737  |  54.9507401  | 1            | 1.235888e-13 |\n",
       "| n_rim_connections | 1.592242e+00 | 6.280453e-01 | 1.499628e+00 | 1.690575e+00 |  0.46514305  |  0.030574996 |  0.02968823  | 231.4409809  | 1            | 2.891298e-52 |\n",
       "| n_triangle_paths | 1.059642e+00 | 9.437146e-01 | 9.485427e-01 | 1.183755e+00 |  0.05793146  |  0.056511208 |  0.05483761  |   1.0508959  | 1            | 3.053008e-01 |\n",
       "| t_is_in_deads | 6.990039e-01 | 1.430607e+00 | 4.227174e-01 | 1.155870e+00 | -0.35809897  |  0.256613109 |  0.25276142  |   1.9473700  | 1            | 1.628705e-01 |\n",
       "| t_n_exposures | 8.909284e-01 | 1.122425e+00 | 7.593255e-01 | 1.045340e+00 | -0.11549122  |  0.081549238 |  0.06472028  |   2.0056638  | 1            | 1.567127e-01 |\n",
       "| t_n_rim_connections | 8.242286e-01 | 1.213256e+00 | 7.597633e-01 | 8.941638e-01 | -0.19330733  |  0.041552305 |  0.03983714  |  21.6424496  | 1            | 3.285005e-06 |\n",
       "\n"
      ],
      "text/plain": [
       "                    exp(coef)    exp(-coef)   lower .95    upper .95   \n",
       "in_close                      NA           NA           NA           NA\n",
       "in_peak             1.570433e+11 6.367670e-12 1.310891e-19 1.881362e+41\n",
       "in_startup                    NA           NA           NA           NA\n",
       "in_tail                       NA           NA           NA           NA\n",
       "is_in_deads         1.510180e-01 6.621729e+00 1.093119e-01 2.086363e-01\n",
       "n_existing_leads    1.072663e+00 9.322596e-01 1.054160e+00 1.091490e+00\n",
       "n_exposures         1.649851e+00 6.061155e-01 1.445281e+00 1.883376e+00\n",
       "n_rim_connections   1.592242e+00 6.280453e-01 1.499628e+00 1.690575e+00\n",
       "n_triangle_paths    1.059642e+00 9.437146e-01 9.485427e-01 1.183755e+00\n",
       "t_is_in_deads       6.990039e-01 1.430607e+00 4.227174e-01 1.155870e+00\n",
       "t_n_exposures       8.909284e-01 1.122425e+00 7.593255e-01 1.045340e+00\n",
       "t_n_rim_connections 8.242286e-01 1.213256e+00 7.597633e-01 8.941638e-01\n",
       "                    coef        se(coef)     se2         Chisq       DF\n",
       "in_close                     NA  0.000000000  0.00000000          NA 1 \n",
       "in_peak             25.77978753 35.336464165 35.33640104   0.5322461 1 \n",
       "in_startup                   NA  0.000000000  0.00000000          NA 1 \n",
       "in_tail                      NA  0.000000000  0.00000000          NA 1 \n",
       "is_in_deads         -1.89035648  0.164897810  0.16232950 131.4188441 1 \n",
       "n_existing_leads     0.07014400  0.008877428  0.00745667  62.4319207 1 \n",
       "n_exposures          0.50068475  0.067542571  0.06268737  54.9507401 1 \n",
       "n_rim_connections    0.46514305  0.030574996  0.02968823 231.4409809 1 \n",
       "n_triangle_paths     0.05793146  0.056511208  0.05483761   1.0508959 1 \n",
       "t_is_in_deads       -0.35809897  0.256613109  0.25276142   1.9473700 1 \n",
       "t_n_exposures       -0.11549122  0.081549238  0.06472028   2.0056638 1 \n",
       "t_n_rim_connections -0.19330733  0.041552305  0.03983714  21.6424496 1 \n",
       "                    p           \n",
       "in_close                      NA\n",
       "in_peak             4.656641e-01\n",
       "in_startup                    NA\n",
       "in_tail                       NA\n",
       "is_in_deads         2.005062e-30\n",
       "n_existing_leads    2.758162e-15\n",
       "n_exposures         1.235888e-13\n",
       "n_rim_connections   2.891298e-52\n",
       "n_triangle_paths    3.053008e-01\n",
       "t_is_in_deads       1.628705e-01\n",
       "t_n_exposures       1.567127e-01\n",
       "t_n_rim_connections 3.285005e-06"
      ]
     },
     "metadata": {},
     "output_type": "display_data"
    }
   ],
   "source": [
    "factors_summary = summary(factors_fit)\n",
    "factors_coefs = merge(factors_summary$conf.int, factors_summary$coefficients, by='row.names')\n",
    "rownames(factors_coefs) <- factors_coefs$Row.names  # reset row names\n",
    "factors_coefs$Row.names <- NULL\n",
    "\n",
    "write.csv(factors_coefs, paste(working_dir, \"factors_cox_results.csv\", sep=\"\"))\n",
    "factors_coefs"
   ]
  },
  {
   "cell_type": "markdown",
   "metadata": {},
   "source": [
    "# Estimate effect of similarity to exposers\n",
    "\n",
    "The theoretical argument is that logic and familiarity increase polarization by making individuals imitate their more similar alters. So, we swap out the logic and familiarity regressors with the similarity measure"
   ]
  },
  {
   "cell_type": "code",
   "execution_count": 9,
   "metadata": {},
   "outputs": [
    {
     "name": "stderr",
     "output_type": "stream",
     "text": [
      "Warning message in coxpenal.fit(X, Y, strats, offset, init = init, control, weights = weights, :\n",
      "“Inner loop failed to coverge for iterations 2 3 4 5 6 7 8 9 10”Warning message in sqrt((diag(x$var2))[kk]):\n",
      "“NaNs produced”Warning message in sqrt((diag(x$var2))[kk]):\n",
      "“NaNs produced”Warning message in sqrt((diag(x$var2))[kk]):\n",
      "“NaNs produced”Warning message in sqrt((diag(x$var2))[kk]):\n",
      "“NaNs produced”Warning message in sqrt((diag(x$var2))[kk]):\n",
      "“NaNs produced”"
     ]
    },
    {
     "data": {
      "text/plain": [
       "Call:\n",
       "coxph(formula = Surv(time = start, time2 = stop, event = adopt_event, \n",
       "    type = \"counting\") ~ in_startup + in_peak + in_close + in_tail + \n",
       "    n_exposures + t_n_exposures + n_edges_shared_with_exposers + \n",
       "    t_n_edges_shared_with_exposers + is_in_deads + t_is_in_deads + \n",
       "    n_existing_leads + frailty.gaussian(player_id), data = adopt_ht)\n",
       "\n",
       "                               coef  se(coef)       se2     Chisq  DF       p\n",
       "in_startup                 226.7349   87.4886              6.7164   1 0.00955\n",
       "in_peak                                0.0000    0.0000             1        \n",
       "in_close                               0.0000    0.0000             1        \n",
       "in_tail                                0.0000    0.0000             1        \n",
       "n_exposures                  0.3634    0.1008    0.0557   13.0040   1 0.00031\n",
       "t_n_exposures                0.2394    0.1182              4.1017   1 0.04284\n",
       "n_edges_shared_with_expos   -0.0236    0.0261              0.8175   1 0.36592\n",
       "t_n_edges_shared_with_exp    0.0131    0.0272              0.2332   1 0.62917\n",
       "is_in_deads                 -0.9029    0.1413    0.0921   40.8489   1 1.6e-10\n",
       "t_is_in_deads               -1.1775    0.2393    0.1951   24.2106   1 8.6e-07\n",
       "n_existing_leads             0.0908    0.0122             55.1945   1 1.1e-13\n",
       "frailty.gaussian(player_i                               1217.2911 241 < 2e-16\n",
       "\n",
       "Iterations: 10 outer, 194 Newton-Raphson\n",
       "     Variance of random effect= 0.927 \n",
       "Degrees of freedom for terms=  -0.3   NaN   NaN   NaN   0.3  -0.4  -0.6  -0.8   0.4   0.7   0.0 241.4 \n",
       "Likelihood ratio test=2124  on NaN df, p=NA\n",
       "n= 24990, number of events= 1513 "
      ]
     },
     "metadata": {},
     "output_type": "display_data"
    }
   ],
   "source": [
    "similarity_fit <- coxph(\n",
    "    Surv(time=start, time2=stop, event=adopt_event, type='counting') ~\n",
    "        in_startup + in_peak + in_close + in_tail +  # timing dummies \n",
    "        #is_link + is_spur + is_spoke + # is_prompt +  # type of clue dummies\n",
    "        n_exposures + t_n_exposures +  # social reinforcement\n",
    "        #n_triangle_paths +  # \"logical\" support\n",
    "        #n_rim_connections + t_n_rim_connections + # familiarity with concepts\n",
    "        n_edges_shared_with_exposers + t_n_edges_shared_with_exposers +  # similarity to exposers\n",
    "        is_in_deads + t_is_in_deads +  # prior rejection\n",
    "        n_existing_leads +  # current state of notebook\n",
    "        frailty.gaussian(player_id),  # random player effect (as players have different play speeds)\n",
    "    data=adopt_ht,\n",
    ")\n",
    "\n",
    "\n",
    "similarity_fit"
   ]
  },
  {
   "cell_type": "code",
   "execution_count": 10,
   "metadata": {},
   "outputs": [
    {
     "name": "stderr",
     "output_type": "stream",
     "text": [
      "Warning message in sqrt((diag(object$var2))[kk]):\n",
      "“NaNs produced”Warning message in sqrt((diag(object$var2))[kk]):\n",
      "“NaNs produced”Warning message in sqrt((diag(object$var2))[kk]):\n",
      "“NaNs produced”Warning message in sqrt((diag(object$var2))[kk]):\n",
      "“NaNs produced”Warning message in sqrt((diag(object$var2))[kk]):\n",
      "“NaNs produced”"
     ]
    },
    {
     "data": {
      "text/html": [
       "<table>\n",
       "<thead><tr><th></th><th scope=col>exp(coef)</th><th scope=col>exp(-coef)</th><th scope=col>lower .95</th><th scope=col>upper .95</th><th scope=col>coef</th><th scope=col>se(coef)</th><th scope=col>se2</th><th scope=col>Chisq</th><th scope=col>DF</th><th scope=col>p</th></tr></thead>\n",
       "<tbody>\n",
       "\t<tr><th scope=row>in_close</th><td>          NA </td><td>          NA </td><td>          NA </td><td>           NA</td><td>          NA </td><td> 0.00000000  </td><td>0.00000000   </td><td>        NA   </td><td>1            </td><td>          NA </td></tr>\n",
       "\t<tr><th scope=row>in_peak</th><td>          NA </td><td>          NA </td><td>          NA </td><td>           NA</td><td>          NA </td><td> 0.00000000  </td><td>0.00000000   </td><td>        NA   </td><td>1            </td><td>          NA </td></tr>\n",
       "\t<tr><th scope=row>in_startup</th><td>2.949210e+98 </td><td>3.390739e-99 </td><td>9.984178e+23 </td><td>8.711621e+172</td><td>226.73487633 </td><td>87.48855536  </td><td>       NaN   </td><td> 6.7163631   </td><td>1            </td><td>9.553224e-03 </td></tr>\n",
       "\t<tr><th scope=row>in_tail</th><td>          NA </td><td>          NA </td><td>          NA </td><td>           NA</td><td>          NA </td><td> 0.00000000  </td><td>0.00000000   </td><td>        NA   </td><td>1            </td><td>          NA </td></tr>\n",
       "\t<tr><th scope=row>is_in_deads</th><td>4.053821e-01 </td><td>2.466808e+00 </td><td>3.073351e-01 </td><td> 5.347084e-01</td><td> -0.90292519 </td><td> 0.14127376  </td><td>0.09209751   </td><td>40.8489157   </td><td>1            </td><td>1.644645e-10 </td></tr>\n",
       "\t<tr><th scope=row>n_edges_shared_with_expos</th><td>9.766902e-01 </td><td>1.023866e+00 </td><td>9.280093e-01 </td><td> 1.027925e+00</td><td> -0.02358575 </td><td> 0.02608611  </td><td>       NaN   </td><td> 0.8174870   </td><td>1            </td><td>3.659159e-01 </td></tr>\n",
       "\t<tr><th scope=row>n_existing_leads</th><td>1.095022e+00 </td><td>9.132233e-01 </td><td>1.069111e+00 </td><td> 1.121562e+00</td><td>  0.09077485 </td><td> 0.01221849  </td><td>       NaN   </td><td>55.1944793   </td><td>1            </td><td>1.091749e-13 </td></tr>\n",
       "\t<tr><th scope=row>n_exposures</th><td>1.438188e+00 </td><td>6.953193e-01 </td><td>1.180432e+00 </td><td> 1.752228e+00</td><td>  0.36338418 </td><td> 0.10076914  </td><td>0.05569089   </td><td>13.0040005   </td><td>1            </td><td>3.108262e-04 </td></tr>\n",
       "\t<tr><th scope=row>t_is_in_deads</th><td>3.080330e-01 </td><td>3.246406e+00 </td><td>1.927032e-01 </td><td> 4.923858e-01</td><td> -1.17754839 </td><td> 0.23931851  </td><td>0.19506646   </td><td>24.2105665   </td><td>1            </td><td>8.635719e-07 </td></tr>\n",
       "\t<tr><th scope=row>t_n_edges_shared_with_exp</th><td>1.013233e+00 </td><td>9.869395e-01 </td><td>9.605847e-01 </td><td> 1.068768e+00</td><td>  0.01314657 </td><td> 0.02722482  </td><td>       NaN   </td><td> 0.2331819   </td><td>1            </td><td>6.291745e-01 </td></tr>\n",
       "\t<tr><th scope=row>t_n_exposures</th><td>1.270506e+00 </td><td>7.870879e-01 </td><td>1.007749e+00 </td><td> 1.601774e+00</td><td>  0.23941533 </td><td> 0.11821477  </td><td>       NaN   </td><td> 4.1016674   </td><td>1            </td><td>4.284094e-02 </td></tr>\n",
       "</tbody>\n",
       "</table>\n"
      ],
      "text/latex": [
       "\\begin{tabular}{r|llllllllll}\n",
       "  & exp(coef) & exp(-coef) & lower .95 & upper .95 & coef & se(coef) & se2 & Chisq & DF & p\\\\\n",
       "\\hline\n",
       "\tin\\_close &           NA  &           NA  &           NA  &            NA &           NA  &  0.00000000   & 0.00000000    &         NA    & 1             &           NA \\\\\n",
       "\tin\\_peak &           NA  &           NA  &           NA  &            NA &           NA  &  0.00000000   & 0.00000000    &         NA    & 1             &           NA \\\\\n",
       "\tin\\_startup & 2.949210e+98  & 3.390739e-99  & 9.984178e+23  & 8.711621e+172 & 226.73487633  & 87.48855536   &        NaN    &  6.7163631    & 1             & 9.553224e-03 \\\\\n",
       "\tin\\_tail &           NA  &           NA  &           NA  &            NA &           NA  &  0.00000000   & 0.00000000    &         NA    & 1             &           NA \\\\\n",
       "\tis\\_in\\_deads & 4.053821e-01  & 2.466808e+00  & 3.073351e-01  &  5.347084e-01 &  -0.90292519  &  0.14127376   & 0.09209751    & 40.8489157    & 1             & 1.644645e-10 \\\\\n",
       "\tn\\_edges\\_shared\\_with\\_expos & 9.766902e-01  & 1.023866e+00  & 9.280093e-01  &  1.027925e+00 &  -0.02358575  &  0.02608611   &        NaN    &  0.8174870    & 1             & 3.659159e-01 \\\\\n",
       "\tn\\_existing\\_leads & 1.095022e+00  & 9.132233e-01  & 1.069111e+00  &  1.121562e+00 &   0.09077485  &  0.01221849   &        NaN    & 55.1944793    & 1             & 1.091749e-13 \\\\\n",
       "\tn\\_exposures & 1.438188e+00  & 6.953193e-01  & 1.180432e+00  &  1.752228e+00 &   0.36338418  &  0.10076914   & 0.05569089    & 13.0040005    & 1             & 3.108262e-04 \\\\\n",
       "\tt\\_is\\_in\\_deads & 3.080330e-01  & 3.246406e+00  & 1.927032e-01  &  4.923858e-01 &  -1.17754839  &  0.23931851   & 0.19506646    & 24.2105665    & 1             & 8.635719e-07 \\\\\n",
       "\tt\\_n\\_edges\\_shared\\_with\\_exp & 1.013233e+00  & 9.869395e-01  & 9.605847e-01  &  1.068768e+00 &   0.01314657  &  0.02722482   &        NaN    &  0.2331819    & 1             & 6.291745e-01 \\\\\n",
       "\tt\\_n\\_exposures & 1.270506e+00  & 7.870879e-01  & 1.007749e+00  &  1.601774e+00 &   0.23941533  &  0.11821477   &        NaN    &  4.1016674    & 1             & 4.284094e-02 \\\\\n",
       "\\end{tabular}\n"
      ],
      "text/markdown": [
       "\n",
       "| <!--/--> | exp(coef) | exp(-coef) | lower .95 | upper .95 | coef | se(coef) | se2 | Chisq | DF | p |\n",
       "|---|---|---|---|---|---|---|---|---|---|---|\n",
       "| in_close |           NA  |           NA  |           NA  |            NA |           NA  |  0.00000000   | 0.00000000    |         NA    | 1             |           NA  |\n",
       "| in_peak |           NA  |           NA  |           NA  |            NA |           NA  |  0.00000000   | 0.00000000    |         NA    | 1             |           NA  |\n",
       "| in_startup | 2.949210e+98  | 3.390739e-99  | 9.984178e+23  | 8.711621e+172 | 226.73487633  | 87.48855536   |        NaN    |  6.7163631    | 1             | 9.553224e-03  |\n",
       "| in_tail |           NA  |           NA  |           NA  |            NA |           NA  |  0.00000000   | 0.00000000    |         NA    | 1             |           NA  |\n",
       "| is_in_deads | 4.053821e-01  | 2.466808e+00  | 3.073351e-01  |  5.347084e-01 |  -0.90292519  |  0.14127376   | 0.09209751    | 40.8489157    | 1             | 1.644645e-10  |\n",
       "| n_edges_shared_with_expos | 9.766902e-01  | 1.023866e+00  | 9.280093e-01  |  1.027925e+00 |  -0.02358575  |  0.02608611   |        NaN    |  0.8174870    | 1             | 3.659159e-01  |\n",
       "| n_existing_leads | 1.095022e+00  | 9.132233e-01  | 1.069111e+00  |  1.121562e+00 |   0.09077485  |  0.01221849   |        NaN    | 55.1944793    | 1             | 1.091749e-13  |\n",
       "| n_exposures | 1.438188e+00  | 6.953193e-01  | 1.180432e+00  |  1.752228e+00 |   0.36338418  |  0.10076914   | 0.05569089    | 13.0040005    | 1             | 3.108262e-04  |\n",
       "| t_is_in_deads | 3.080330e-01  | 3.246406e+00  | 1.927032e-01  |  4.923858e-01 |  -1.17754839  |  0.23931851   | 0.19506646    | 24.2105665    | 1             | 8.635719e-07  |\n",
       "| t_n_edges_shared_with_exp | 1.013233e+00  | 9.869395e-01  | 9.605847e-01  |  1.068768e+00 |   0.01314657  |  0.02722482   |        NaN    |  0.2331819    | 1             | 6.291745e-01  |\n",
       "| t_n_exposures | 1.270506e+00  | 7.870879e-01  | 1.007749e+00  |  1.601774e+00 |   0.23941533  |  0.11821477   |        NaN    |  4.1016674    | 1             | 4.284094e-02  |\n",
       "\n"
      ],
      "text/plain": [
       "                          exp(coef)    exp(-coef)   lower .95    upper .95    \n",
       "in_close                            NA           NA           NA            NA\n",
       "in_peak                             NA           NA           NA            NA\n",
       "in_startup                2.949210e+98 3.390739e-99 9.984178e+23 8.711621e+172\n",
       "in_tail                             NA           NA           NA            NA\n",
       "is_in_deads               4.053821e-01 2.466808e+00 3.073351e-01  5.347084e-01\n",
       "n_edges_shared_with_expos 9.766902e-01 1.023866e+00 9.280093e-01  1.027925e+00\n",
       "n_existing_leads          1.095022e+00 9.132233e-01 1.069111e+00  1.121562e+00\n",
       "n_exposures               1.438188e+00 6.953193e-01 1.180432e+00  1.752228e+00\n",
       "t_is_in_deads             3.080330e-01 3.246406e+00 1.927032e-01  4.923858e-01\n",
       "t_n_edges_shared_with_exp 1.013233e+00 9.869395e-01 9.605847e-01  1.068768e+00\n",
       "t_n_exposures             1.270506e+00 7.870879e-01 1.007749e+00  1.601774e+00\n",
       "                          coef         se(coef)    se2        Chisq      DF\n",
       "in_close                            NA  0.00000000 0.00000000         NA 1 \n",
       "in_peak                             NA  0.00000000 0.00000000         NA 1 \n",
       "in_startup                226.73487633 87.48855536        NaN  6.7163631 1 \n",
       "in_tail                             NA  0.00000000 0.00000000         NA 1 \n",
       "is_in_deads                -0.90292519  0.14127376 0.09209751 40.8489157 1 \n",
       "n_edges_shared_with_expos  -0.02358575  0.02608611        NaN  0.8174870 1 \n",
       "n_existing_leads            0.09077485  0.01221849        NaN 55.1944793 1 \n",
       "n_exposures                 0.36338418  0.10076914 0.05569089 13.0040005 1 \n",
       "t_is_in_deads              -1.17754839  0.23931851 0.19506646 24.2105665 1 \n",
       "t_n_edges_shared_with_exp   0.01314657  0.02722482        NaN  0.2331819 1 \n",
       "t_n_exposures               0.23941533  0.11821477        NaN  4.1016674 1 \n",
       "                          p           \n",
       "in_close                            NA\n",
       "in_peak                             NA\n",
       "in_startup                9.553224e-03\n",
       "in_tail                             NA\n",
       "is_in_deads               1.644645e-10\n",
       "n_edges_shared_with_expos 3.659159e-01\n",
       "n_existing_leads          1.091749e-13\n",
       "n_exposures               3.108262e-04\n",
       "t_is_in_deads             8.635719e-07\n",
       "t_n_edges_shared_with_exp 6.291745e-01\n",
       "t_n_exposures             4.284094e-02"
      ]
     },
     "metadata": {},
     "output_type": "display_data"
    }
   ],
   "source": [
    "similarity_summary = summary(similarity_fit)\n",
    "similarity_coefs = merge(similarity_summary$conf.int, similarity_summary$coefficients, by='row.names')\n",
    "rownames(similarity_coefs) <- similarity_coefs$Row.names  # reset row names\n",
    "similarity_coefs$Row.names <- NULL\n",
    "\n",
    "write.csv(similarity_coefs, paste(working_dir, \"similarity_cox_results.csv\", sep=\"\"))\n",
    "similarity_coefs"
   ]
  },
  {
   "cell_type": "code",
   "execution_count": null,
   "metadata": {},
   "outputs": [],
   "source": []
  }
 ],
 "metadata": {
  "kernelspec": {
   "display_name": "R",
   "language": "R",
   "name": "ir"
  },
  "language_info": {
   "codemirror_mode": "r",
   "file_extension": ".r",
   "mimetype": "text/x-r-source",
   "name": "R",
   "pygments_lexer": "r",
   "version": "3.6.1"
  }
 },
 "nbformat": 4,
 "nbformat_minor": 2
}
