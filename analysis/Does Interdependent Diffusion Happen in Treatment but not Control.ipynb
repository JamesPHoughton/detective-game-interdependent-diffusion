{
 "cells": [
  {
   "cell_type": "markdown",
   "metadata": {},
   "source": [
    "f1 = Fraction of spoke adoption events that occur with at least one rim node already present.\n",
    "\n",
    "If f1 is very small, then spur/cross-link clues have no influence on the adoption of spokes, so there is no interdependence\n"
   ]
  },
  {
   "cell_type": "markdown",
   "metadata": {},
   "source": [
    "f2 = Fraction of cross-link adoptions that occur when there is only one end present\n",
    "\n",
    "if f2 is very small, people just filling-in-the-gaps, justifying their prior belief about who is guilty with cross-linking info."
   ]
  },
  {
   "cell_type": "markdown",
   "metadata": {},
   "source": [
    "plot adoption events per time window of spokes, spurs"
   ]
  },
  {
   "cell_type": "markdown",
   "metadata": {},
   "source": [
    "existing manipulation check basically asks the hazard ratio for when you can close a triangle by adopting a spur, but not the actual number of spurs adopted in response to having af"
   ]
  }
 ],
 "metadata": {
  "kernelspec": {
   "display_name": "Python 3",
   "language": "python",
   "name": "python3"
  },
  "language_info": {
   "codemirror_mode": {
    "name": "ipython",
    "version": 3
   },
   "file_extension": ".py",
   "mimetype": "text/x-python",
   "name": "python",
   "nbconvert_exporter": "python",
   "pygments_lexer": "ipython3",
   "version": "3.7.6"
  }
 },
 "nbformat": 4,
 "nbformat_minor": 2
}
