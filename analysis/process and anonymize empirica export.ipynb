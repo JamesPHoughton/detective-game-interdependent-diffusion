{
 "cells": [
  {
   "cell_type": "markdown",
   "metadata": {},
   "source": [
    "# Postprocess and anonymize empirica export\n",
    "\n",
    "This `Python` notebook:\n",
    "- combines the various information that empirica exports into a useable structure\n",
    "- removes mechanical turk IDs and url parameters to anonymize data\n",
    "- removes survey questions about fair pay, enough time, and general feedback\n",
    "- combines into blocks that are analyzed together (you have to specify which games go in which blocks)\n",
    "- exports each block to a file in the `results-anonymized` folder"
   ]
  },
  {
   "cell_type": "code",
   "execution_count": 1,
   "metadata": {},
   "outputs": [],
   "source": [
    "import json\n",
    "from os import path"
   ]
  },
  {
   "cell_type": "markdown",
   "metadata": {},
   "source": [
    "## Load Data"
   ]
  },
  {
   "cell_type": "code",
   "execution_count": 6,
   "metadata": {},
   "outputs": [],
   "source": [
    "#source_dir = \"../results-sensitive/pilot/20200626/jsonl/\"\n",
    "source_dir = \"../results-sensitive/pilot/20200507/jsonl/\"\n",
    "output_dir = \"../results-anonymized/pilot/\"\n"
   ]
  },
  {
   "cell_type": "code",
   "execution_count": 7,
   "metadata": {},
   "outputs": [
    {
     "name": "stdout",
     "output_type": "stream",
     "text": [
      "0 2020-05-04T20:25:48.663Z testBots\n",
      "1 2020-05-05T18:10:44.030Z panel_1_matched_pair_exp_design6_matched_20200319_134546\n",
      "2 2020-05-05T18:11:30.507Z panel_1_matched_pair_caveman_exp_design6_matched_20200319_134546\n",
      "3 2020-05-06T18:13:27.831Z panel_2_matched_pair_exp_design6_matched_20200319_134546\n",
      "4 2020-05-06T18:19:54.834Z panel_2_matched_pair_caveman_exp_design6_matched_20200319_134546\n",
      "5 2020-05-07T16:21:41.220Z testBots\n",
      "6 2020-05-07T17:20:47.582Z panel_3_matched_pair_caveman_exp_design6_matched_20200319_134546\n",
      "7 2020-05-07T17:25:08.619Z panel_3_matched_pair_exp_design6_matched_20200319_134546\n"
     ]
    }
   ],
   "source": [
    "players = []\n",
    "with open(source_dir + 'players.jsonl', 'r') as f:\n",
    "    for line in f:\n",
    "        player_data = json.loads(line)\n",
    "        # remove identifying information\n",
    "        player_data.pop('id')\n",
    "        player_data.pop('urlParams')\n",
    "        \n",
    "        if 'data.survey' in player_data:\n",
    "            player_data['data.survey'].pop('strength')\n",
    "            player_data['data.survey'].pop('fair')\n",
    "            player_data['data.survey'].pop('feedback')\n",
    "            player_data['data.survey'].pop('time')\n",
    "            \n",
    "        if player_data['exitStatus'] != 'gameFull':\n",
    "            players.append(player_data)\n",
    "\n",
    "games = []\n",
    "with open(source_dir + 'games.jsonl', 'r') as f:\n",
    "    for line in f:\n",
    "        games.append(json.loads(line))\n",
    "        \n",
    "treatments = []\n",
    "with open(source_dir + 'treatments.jsonl', 'r') as f:\n",
    "    for line in f:\n",
    "        treatments.append(json.loads(line))\n",
    "\n",
    "logs = []\n",
    "with open(source_dir + 'player-logs.jsonl', 'r') as f:\n",
    "    for line in f:\n",
    "        entry = json.loads(line)\n",
    "        entry['data'] = json.loads(entry['jsonData'])\n",
    "        logs.append(entry)  \n",
    "        \n",
    "stages = []\n",
    "with open(source_dir + 'stages.jsonl', 'r') as f:\n",
    "    for line in f:\n",
    "        stages.append(json.loads(line)) \n",
    "        \n",
    "# match games, players, treatments, and log info\n",
    "loaded_games = []\n",
    "for game in games:\n",
    "    game['players'] = {pl['_id']:pl for pl in players if pl['_id'] in game['playerIds']}\n",
    "    treatment = [t for t in treatments if t[\"_id\"] == game['treatmentId']][0]\n",
    "    game['gameSetupId'] = treatment['name']\n",
    "    game['log'] = [l for l in logs if l['gameId'] == game['_id']]\n",
    "    game['stages'] = [r for r in stages if r['gameId'] == game['_id']]\n",
    "    \n",
    "    loaded_games.append(game)\n",
    "    \n",
    "for i, game in enumerate(loaded_games):\n",
    "    print(i, game['createdAt'], game['gameSetupId'])"
   ]
  },
  {
   "cell_type": "markdown",
   "metadata": {},
   "source": [
    "## Construct Blocks\n",
    "Each block contains a set of games that should be processed together"
   ]
  },
  {
   "cell_type": "code",
   "execution_count": 8,
   "metadata": {},
   "outputs": [
    {
     "name": "stdout",
     "output_type": "stream",
     "text": [
      "../results-anonymized/pilot/block_20200505_pilot.json already exists. Be careful if you don't want to overwrite\n",
      "../results-anonymized/pilot/block_20200506_pilot.json already exists. Be careful if you don't want to overwrite\n",
      "../results-anonymized/pilot/block_20200507_pilot.json already exists. Be careful if you don't want to overwrite\n"
     ]
    }
   ],
   "source": [
    "# adjust these to process new data\n",
    "blocks = {\n",
    "    \"block_20200505_pilot\": [1,2],\n",
    "    \"block_20200506_pilot\": [3,4],\n",
    "    \"block_20200507_pilot\": [7,6]\n",
    "}\n",
    "\n",
    "# blocks = {\n",
    "#     \"block_20200624_pilot\": [1],\n",
    "#     \"block_20200626_pilot\": [2],\n",
    "# }\n",
    "\n",
    "for block_name, games_list in blocks.items(): \n",
    "    outfile_name = output_dir + block_name + '.json'\n",
    "    if path.exists(outfile_name):\n",
    "        print(outfile_name + \" already exists. Be careful if you don't want to overwrite\")"
   ]
  },
  {
   "cell_type": "code",
   "execution_count": 9,
   "metadata": {},
   "outputs": [
    {
     "name": "stdout",
     "output_type": "stream",
     "text": [
      "Writing [1, 2] to ../results-anonymized/pilot/block_20200505_pilot.json\n",
      "Writing [3, 4] to ../results-anonymized/pilot/block_20200506_pilot.json\n",
      "Writing [7, 6] to ../results-anonymized/pilot/block_20200507_pilot.json\n"
     ]
    }
   ],
   "source": [
    "for block_name, games_list in blocks.items(): \n",
    "    obj = {loaded_games[i]['gameSetupId']: loaded_games[i] for i in games_list}\n",
    "    outfile_name = output_dir + block_name + '.json'\n",
    "    with open(outfile_name, 'w') as f:\n",
    "        print(\"Writing \" + str(games_list) + \" to \" + outfile_name)\n",
    "        json.dump(obj, f)"
   ]
  },
  {
   "cell_type": "code",
   "execution_count": null,
   "metadata": {},
   "outputs": [],
   "source": []
  }
 ],
 "metadata": {
  "kernelspec": {
   "display_name": "Python 3",
   "language": "python",
   "name": "python3"
  },
  "language_info": {
   "codemirror_mode": {
    "name": "ipython",
    "version": 3
   },
   "file_extension": ".py",
   "mimetype": "text/x-python",
   "name": "python",
   "nbconvert_exporter": "python",
   "pygments_lexer": "ipython3",
   "version": "3.7.6"
  }
 },
 "nbformat": 4,
 "nbformat_minor": 2
}
