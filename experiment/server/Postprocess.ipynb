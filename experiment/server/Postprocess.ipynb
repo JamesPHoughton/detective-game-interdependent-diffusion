{
 "cells": [
  {
   "cell_type": "code",
   "execution_count": 1,
   "metadata": {},
   "outputs": [
    {
     "name": "stdout",
     "output_type": "stream",
     "text": [
      "Populating the interactive namespace from numpy and matplotlib\n"
     ]
    }
   ],
   "source": [
    "%pylab inline\n",
    "import pandas as pd"
   ]
  },
  {
   "cell_type": "code",
   "execution_count": 15,
   "metadata": {},
   "outputs": [],
   "source": [
    "import json\n",
    "file = \"/Users/jameshoughton/Desktop/Empirica Data - 2019-03-22 13-04-52/players.json\"\n",
    "\n",
    "data = []\n",
    "with open(file) as f:\n",
    "    for line in f:\n",
    "        data.append(json.loads(line))"
   ]
  },
  {
   "cell_type": "code",
   "execution_count": 23,
   "metadata": {},
   "outputs": [
    {
     "data": {
      "text/plain": [
       "[{'event': 'drop',\n",
       "  'data': {'clue': 'treat_clue_2_9',\n",
       "   'source': 'unknown_clues',\n",
       "   'dest': 'true_clues'},\n",
       "  'at': '2019-03-22T15:48:22.260Z'},\n",
       " {'event': 'drop',\n",
       "  'data': {'clue': 'treat_clue_2_4',\n",
       "   'source': 'unknown_clues',\n",
       "   'dest': 'true_clues'},\n",
       "  'at': '2019-03-22T15:48:24.928Z'},\n",
       " {'event': 'drop',\n",
       "  'data': {'clue': 'treat_clue_8_9',\n",
       "   'source': 'unknown_clues',\n",
       "   'dest': 'true_clues'},\n",
       "  'at': '2019-03-22T15:48:28.968Z'},\n",
       " {'event': 'drop',\n",
       "  'data': {'clue': 'treat_clue_2_4',\n",
       "   'source': 'true_clues',\n",
       "   'dest': 'unknown_clues'},\n",
       "  'at': '2019-03-22T15:49:54.889Z'},\n",
       " {'event': 'drop',\n",
       "  'data': {'clue': 'treat_clue_2_4',\n",
       "   'source': 'unknown_clues',\n",
       "   'dest': 'true_clues'},\n",
       "  'at': '2019-03-22T15:49:59.529Z'},\n",
       " {'event': 'drop',\n",
       "  'data': {'clue': 'treat_clue_4_9',\n",
       "   'source': 'gfvMtsW5MHdP9HN5o',\n",
       "   'dest': 'true_clues'},\n",
       "  'at': '2019-03-22T15:50:07.252Z'}]"
      ]
     },
     "execution_count": 23,
     "metadata": {},
     "output_type": "execute_result"
    }
   ],
   "source": [
    "data[150]['data.log']"
   ]
  },
  {
   "cell_type": "code",
   "execution_count": 22,
   "metadata": {},
   "outputs": [
    {
     "data": {
      "text/plain": [
       "{'true_clues': {'id': 'true_clues',\n",
       "  'title': 'Likely True',\n",
       "  'clueIDs': ['treat_clue_2_9',\n",
       "   'treat_clue_4_9',\n",
       "   'treat_clue_8_9',\n",
       "   'treat_clue_2_4']},\n",
       " 'unknown_clues': {'id': 'unknown_clues',\n",
       "  'title': 'Unknown',\n",
       "  'clueIDs': ['treat_clue_6_9', 'treat_clue_1_7']},\n",
       " 'false_clues': {'id': 'false_clues', 'title': 'Likely False', 'clueIDs': []}}"
      ]
     },
     "execution_count": 22,
     "metadata": {},
     "output_type": "execute_result"
    }
   ],
   "source": [
    "data[150]['data.notebooks']"
   ]
  },
  {
   "cell_type": "code",
   "execution_count": 25,
   "metadata": {},
   "outputs": [
    {
     "data": {
      "text/plain": [
       "['treat_clue_2_9',\n",
       " 'treat_clue_6_9',\n",
       " 'treat_clue_2_4',\n",
       " 'treat_clue_8_9',\n",
       " 'treat_clue_1_7']"
      ]
     },
     "execution_count": 25,
     "metadata": {},
     "output_type": "execute_result"
    }
   ],
   "source": [
    "data[150]['data.seed beliefs']"
   ]
  },
  {
   "cell_type": "code",
   "execution_count": 26,
   "metadata": {},
   "outputs": [
    {
     "name": "stdout",
     "output_type": "stream",
     "text": [
      "{'event': 'drop', 'data': {'clue': 'treat_clue_2_9', 'source': 'unknown_clues', 'dest': 'true_clues'}, 'at': '2019-03-22T15:48:22.260Z'}\n",
      "{'event': 'drop', 'data': {'clue': 'treat_clue_2_4', 'source': 'unknown_clues', 'dest': 'true_clues'}, 'at': '2019-03-22T15:48:24.928Z'}\n",
      "{'event': 'drop', 'data': {'clue': 'treat_clue_8_9', 'source': 'unknown_clues', 'dest': 'true_clues'}, 'at': '2019-03-22T15:48:28.968Z'}\n",
      "{'event': 'drop', 'data': {'clue': 'treat_clue_2_4', 'source': 'true_clues', 'dest': 'unknown_clues'}, 'at': '2019-03-22T15:49:54.889Z'}\n",
      "{'event': 'drop', 'data': {'clue': 'treat_clue_2_4', 'source': 'unknown_clues', 'dest': 'true_clues'}, 'at': '2019-03-22T15:49:59.529Z'}\n",
      "{'event': 'drop', 'data': {'clue': 'treat_clue_4_9', 'source': 'gfvMtsW5MHdP9HN5o', 'dest': 'true_clues'}, 'at': '2019-03-22T15:50:07.252Z'}\n"
     ]
    }
   ],
   "source": [
    "for event in data[150]['data.log']:\n",
    "    print(event)"
   ]
  },
  {
   "cell_type": "code",
   "execution_count": null,
   "metadata": {},
   "outputs": [],
   "source": []
  }
 ],
 "metadata": {
  "kernelspec": {
   "display_name": "Python 3",
   "language": "python",
   "name": "python3"
  },
  "language_info": {
   "codemirror_mode": {
    "name": "ipython",
    "version": 3
   },
   "file_extension": ".py",
   "mimetype": "text/x-python",
   "name": "python",
   "nbconvert_exporter": "python",
   "pygments_lexer": "ipython3",
   "version": "3.7.1"
  }
 },
 "nbformat": 4,
 "nbformat_minor": 2
}
